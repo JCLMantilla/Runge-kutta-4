# 4th order Runge-Kutta method for friction proyectile motion in C++
This small project shows some scripting in C++, Python, and some Bash to solve two simultaneous, second-order ordinary differential equations, just for the sake of comparing the effect of air resistance in the trajectory of a projectile.

